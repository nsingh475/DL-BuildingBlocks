{
 "cells": [
  {
   "cell_type": "markdown",
   "metadata": {},
   "source": [
    "# Hyper-parameter Tunning"
   ]
  },
  {
   "cell_type": "markdown",
   "metadata": {},
   "source": [
    "#### 1. Import Libraries"
   ]
  },
  {
   "cell_type": "code",
   "execution_count": 3,
   "metadata": {},
   "outputs": [],
   "source": [
    "import warnings\n",
    "warnings.filterwarnings(\"ignore\")"
   ]
  },
  {
   "cell_type": "code",
   "execution_count": 4,
   "metadata": {},
   "outputs": [
    {
     "name": "stdout",
     "output_type": "stream",
     "text": [
      "Collecting nni\n",
      "  Using cached nni-2.4-py3-none-win_amd64.whl (53.4 MB)\n",
      "Requirement already satisfied: websockets in c:\\users\\nsingh2\\anaconda3\\lib\\site-packages (from nni) (10.0)\n",
      "Requirement already satisfied: responses in c:\\users\\nsingh2\\anaconda3\\lib\\site-packages (from nni) (0.14.0)\n",
      "Requirement already satisfied: requests in c:\\users\\nsingh2\\anaconda3\\lib\\site-packages (from nni) (2.24.0)\n",
      "Requirement already satisfied: scikit-learn>=0.24.1 in c:\\users\\nsingh2\\anaconda3\\lib\\site-packages (from nni) (1.0)\n",
      "Requirement already satisfied: filelock in c:\\users\\nsingh2\\anaconda3\\lib\\site-packages (from nni) (3.0.12)\n",
      "Requirement already satisfied: astor in c:\\users\\nsingh2\\anaconda3\\lib\\site-packages (from nni) (0.8.1)\n",
      "Collecting prettytable\n",
      "  Using cached prettytable-2.2.1-py3-none-any.whl (23 kB)\n",
      "Requirement already satisfied: schema in c:\\users\\nsingh2\\anaconda3\\lib\\site-packages (from nni) (0.7.4)\n",
      "Requirement already satisfied: scipy; python_version >= \"3.7\" in c:\\users\\nsingh2\\anaconda3\\lib\\site-packages (from nni) (1.5.0)\n",
      "Requirement already satisfied: psutil in c:\\users\\nsingh2\\anaconda3\\lib\\site-packages (from nni) (5.7.0)\n",
      "Requirement already satisfied: hyperopt==0.1.2 in c:\\users\\nsingh2\\anaconda3\\lib\\site-packages (from nni) (0.1.2)\n",
      "Requirement already satisfied: PythonWebHDFS in c:\\users\\nsingh2\\anaconda3\\lib\\site-packages (from nni) (0.2.3)\n",
      "Requirement already satisfied: pyyaml in c:\\users\\nsingh2\\anaconda3\\lib\\site-packages (from nni) (5.3.1)\n",
      "Requirement already satisfied: json-tricks in c:\\users\\nsingh2\\anaconda3\\lib\\site-packages (from nni) (3.15.5)\n",
      "Requirement already satisfied: colorama in c:\\users\\nsingh2\\anaconda3\\lib\\site-packages (from nni) (0.4.3)\n",
      "Requirement already satisfied: numpy<1.19.4; sys_platform == \"win32\" in c:\\users\\nsingh2\\anaconda3\\lib\\site-packages (from nni) (1.18.5)\n",
      "Collecting urllib3>=1.25.10\n",
      "  Downloading urllib3-1.26.7-py2.py3-none-any.whl (138 kB)\n",
      "Requirement already satisfied: six in c:\\users\\nsingh2\\anaconda3\\lib\\site-packages (from responses->nni) (1.15.0)\n",
      "Requirement already satisfied: chardet<4,>=3.0.2 in c:\\users\\nsingh2\\anaconda3\\lib\\site-packages (from requests->nni) (3.0.4)\n",
      "Requirement already satisfied: idna<3,>=2.5 in c:\\users\\nsingh2\\anaconda3\\lib\\site-packages (from requests->nni) (2.10)\n",
      "Requirement already satisfied: certifi>=2017.4.17 in c:\\users\\nsingh2\\anaconda3\\lib\\site-packages (from requests->nni) (2020.6.20)\n",
      "Requirement already satisfied: joblib>=0.11 in c:\\users\\nsingh2\\anaconda3\\lib\\site-packages (from scikit-learn>=0.24.1->nni) (0.16.0)\n",
      "Requirement already satisfied: threadpoolctl>=2.0.0 in c:\\users\\nsingh2\\anaconda3\\lib\\site-packages (from scikit-learn>=0.24.1->nni) (2.1.0)\n",
      "Requirement already satisfied: wcwidth in c:\\users\\nsingh2\\anaconda3\\lib\\site-packages (from prettytable->nni) (0.2.5)\n",
      "Requirement already satisfied: contextlib2>=0.5.5 in c:\\users\\nsingh2\\anaconda3\\lib\\site-packages (from schema->nni) (0.6.0.post1)\n",
      "Requirement already satisfied: networkx in c:\\users\\nsingh2\\anaconda3\\lib\\site-packages (from hyperopt==0.1.2->nni) (2.4)\n",
      "Requirement already satisfied: future in c:\\users\\nsingh2\\anaconda3\\lib\\site-packages (from hyperopt==0.1.2->nni) (0.18.2)\n",
      "Requirement already satisfied: pymongo in c:\\users\\nsingh2\\anaconda3\\lib\\site-packages (from hyperopt==0.1.2->nni) (3.12.0)\n",
      "Requirement already satisfied: tqdm in c:\\users\\nsingh2\\anaconda3\\lib\\site-packages (from hyperopt==0.1.2->nni) (4.47.0)\n",
      "Requirement already satisfied: simplejson in c:\\users\\nsingh2\\anaconda3\\lib\\site-packages (from PythonWebHDFS->nni) (3.17.5)\n",
      "Requirement already satisfied: decorator>=4.3.0 in c:\\users\\nsingh2\\anaconda3\\lib\\site-packages (from networkx->hyperopt==0.1.2->nni) (4.4.2)\n",
      "Installing collected packages: prettytable, nni, urllib3\n",
      "  Attempting uninstall: urllib3\n",
      "    Found existing installation: urllib3 1.25.9\n",
      "    Uninstalling urllib3-1.25.9:\n",
      "      Successfully uninstalled urllib3-1.25.9\n",
      "Successfully installed nni-2.4 prettytable-2.2.1 urllib3-1.26.7\n"
     ]
    },
    {
     "name": "stderr",
     "output_type": "stream",
     "text": [
      "ERROR: requests 2.24.0 has requirement urllib3!=1.25.0,!=1.25.1,<1.26,>=1.21.1, but you'll have urllib3 1.26.7 which is incompatible.\n",
      "ERROR: huggingface-hub 0.0.17 has requirement packaging>=20.9, but you'll have packaging 20.4 which is incompatible.\n"
     ]
    }
   ],
   "source": [
    "! pip install nni"
   ]
  },
  {
   "cell_type": "code",
   "execution_count": 5,
   "metadata": {},
   "outputs": [],
   "source": [
    "import tensorflow as tf\n",
    "import nni"
   ]
  },
  {
   "cell_type": "markdown",
   "metadata": {},
   "source": [
    "#### 2. Loading Dataset"
   ]
  },
  {
   "cell_type": "code",
   "execution_count": 6,
   "metadata": {},
   "outputs": [],
   "source": [
    "def load_dataset():\n",
    "    (x_train, y_train), (x_test, y_test) = tf.keras.datasets.mnist.load_data()\n",
    "    return (x_train/255., y_train), (x_test/255., y_test)"
   ]
  },
  {
   "cell_type": "markdown",
   "metadata": {},
   "source": [
    "#### 3. Creating Model"
   ]
  },
  {
   "cell_type": "code",
   "execution_count": 7,
   "metadata": {},
   "outputs": [],
   "source": [
    "def create_model(num_units, dropout_rate, lr, activation):\n",
    "    model = tf.keras.models.Sequential([\n",
    "        tf.keras.layers.Flatten(),\n",
    "        tf.keras.layers.Dense(num_units, activation=activation),\n",
    "        tf.keras.layers.Dropout(dropout_rate),\n",
    "        tf.keras.layers.Dense(10, activation=\"softmax\")\n",
    "    ])\n",
    "\n",
    "    model.compile(\n",
    "        loss=\"sparse_categorical_crossentropy\",\n",
    "        optimizer=tf.keras.optimizers.Adam(lr=lr),\n",
    "        metrics=[\"accuracy\"]\n",
    "    )\n",
    "    return model"
   ]
  },
  {
   "cell_type": "code",
   "execution_count": 8,
   "metadata": {},
   "outputs": [],
   "source": [
    "class ReportIntermediates(tf.keras.callbacks.Callback):\n",
    "    def on_epoch_end(self, epoch, logs=None):\n",
    "        acc = logs.get(\"val_accuracy\") or 0.\n",
    "        nni.report_intermediate_result(acc)"
   ]
  },
  {
   "cell_type": "code",
   "execution_count": 9,
   "metadata": {},
   "outputs": [],
   "source": [
    "def main(params):\n",
    "    num_units = params.get(\"num_units\")\n",
    "    dropout_rate = params.get(\"dropout_rate\")\n",
    "    lr = params.get(\"lr\")\n",
    "    batch_size = params.get(\"batch_size\")\n",
    "    activation = params.get(\"activation\")\n",
    "\n",
    "    model = create_model(num_units, dropout_rate, lr, activation)\n",
    "\n",
    "    (x_train, y_train), (x_test, y_test) = load_dataset()\n",
    "\n",
    "    _ = model.fit(\n",
    "        x_train, y_train,\n",
    "        validation_data=(x_test, y_test),\n",
    "        epochs=10,\n",
    "        verbose=False,\n",
    "        batch_size=batch_size,\n",
    "        callbacks=[ReportIntermediates()]\n",
    "    )\n",
    "\n",
    "    _, acc = model.evaluate(x_test, y_test, verbose=False)\n",
    "    nni.report_final_result(acc)"
   ]
  },
  {
   "cell_type": "code",
   "execution_count": 10,
   "metadata": {},
   "outputs": [
    {
     "name": "stdout",
     "output_type": "stream",
     "text": [
      "[2021-09-29 19:19:39] INFO (nni/MainThread) Intermediate result: 0.8883000016212463  (Index 0)\n",
      "[2021-09-29 19:19:42] INFO (nni/MainThread) Intermediate result: 0.9089999794960022  (Index 1)\n",
      "[2021-09-29 19:19:45] INFO (nni/MainThread) Intermediate result: 0.9180999994277954  (Index 2)\n",
      "[2021-09-29 19:19:47] INFO (nni/MainThread) Intermediate result: 0.9236999750137329  (Index 3)\n",
      "[2021-09-29 19:19:50] INFO (nni/MainThread) Intermediate result: 0.9300000071525574  (Index 4)\n",
      "[2021-09-29 19:19:53] INFO (nni/MainThread) Intermediate result: 0.9326000213623047  (Index 5)\n",
      "[2021-09-29 19:19:56] INFO (nni/MainThread) Intermediate result: 0.9362000226974487  (Index 6)\n",
      "[2021-09-29 19:19:59] INFO (nni/MainThread) Intermediate result: 0.939300000667572  (Index 7)\n",
      "[2021-09-29 19:20:02] INFO (nni/MainThread) Intermediate result: 0.9412999749183655  (Index 8)\n",
      "[2021-09-29 19:20:04] INFO (nni/MainThread) Intermediate result: 0.9440000057220459  (Index 9)\n",
      "[2021-09-29 19:20:05] INFO (nni/MainThread) Final result: 0.9440000057220459\n"
     ]
    }
   ],
   "source": [
    "if __name__ == \"__main__\":\n",
    "    params = {\n",
    "        \"num_units\": 32,\n",
    "        \"dropout_rate\": 0.1,\n",
    "        \"lr\": 0.0001,\n",
    "        \"batch_size\": 32,\n",
    "        \"activation\": \"relu\"\n",
    "    }\n",
    "\n",
    "    tuned_params = nni.get_next_parameter()\n",
    "    params.update(tuned_params)\n",
    "\n",
    "    main(params)"
   ]
  },
  {
   "cell_type": "code",
   "execution_count": null,
   "metadata": {},
   "outputs": [],
   "source": []
  }
 ],
 "metadata": {
  "kernelspec": {
   "display_name": "Python 3",
   "language": "python",
   "name": "python3"
  },
  "language_info": {
   "codemirror_mode": {
    "name": "ipython",
    "version": 3
   },
   "file_extension": ".py",
   "mimetype": "text/x-python",
   "name": "python",
   "nbconvert_exporter": "python",
   "pygments_lexer": "ipython3",
   "version": "3.8.3"
  }
 },
 "nbformat": 4,
 "nbformat_minor": 4
}
